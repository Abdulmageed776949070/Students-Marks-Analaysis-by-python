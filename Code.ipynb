{
 "cells": [
  {
   "cell_type": "code",
   "execution_count": null,
   "id": "01333f6f",
   "metadata": {},
   "outputs": [],
   "source": [
    "\n",
    "import numpy as np\n",
    "import pandas as pd\n",
    "import matplotlib.pyplot as plt\n"
   ]
  },
  {
   "cell_type": "markdown",
   "id": "a0bda0c8",
   "metadata": {},
   "source": [
    "### إعداد بيانات افتراضية"
   ]
  },
  {
   "cell_type": "code",
   "execution_count": null,
   "id": "975b3ba3",
   "metadata": {},
   "outputs": [],
   "source": [
    "\n",
    "# إعداد بيانات افتراضية\n",
    "np.random.seed(0)  # لتكرار النتائج\n",
    "students = ['Abdumajeed', 'muaath', 'Anas', 'Ammar', 'Ali']\n",
    "test1_scores = np.random.randint(50, 100, size=len(students))\n",
    "test2_scores = np.random.randint(50, 100, size=len(students))\n"
   ]
  },
  {
   "cell_type": "markdown",
   "id": "66a46bac",
   "metadata": {},
   "source": [
    "### إنشاء DataFrame"
   ]
  },
  {
   "cell_type": "code",
   "execution_count": null,
   "id": "7d2796d1",
   "metadata": {},
   "outputs": [],
   "source": [
    "\n",
    "# إنشاء DataFrame\n",
    "data = {\n",
    "    'Student': students,\n",
    "    'Test 1 Score': test1_scores,\n",
    "    'Test 2 Score': test2_scores\n",
    "}\n",
    "df = pd.DataFrame(data)\n"
   ]
  },
  {
   "cell_type": "markdown",
   "id": "64a97f84",
   "metadata": {},
   "source": [
    "### عرض البيانات"
   ]
  },
  {
   "cell_type": "code",
   "execution_count": null,
   "id": "a09a56dc",
   "metadata": {},
   "outputs": [],
   "source": [
    "\n",
    "# عرض البيانات\n",
    "print(\"بيانات الطلاب:\")\n",
    "print(df)\n"
   ]
  },
  {
   "cell_type": "markdown",
   "id": "9827d1b2",
   "metadata": {},
   "source": [
    "### حساب الإحصاءات الأساسية"
   ]
  },
  {
   "cell_type": "code",
   "execution_count": null,
   "id": "1ac8c88a",
   "metadata": {},
   "outputs": [],
   "source": [
    "\n",
    "# حساب الإحصاءات الأساسية\n",
    "mean_test1 = np.mean(df['Test 1 Score'])\n",
    "median_test1 = np.median(df['Test 1 Score'])\n",
    "std_test1 = np.std(df['Test 1 Score'])\n",
    "\n",
    "mean_test2 = np.mean(df['Test 2 Score'])\n",
    "median_test2 = np.median(df['Test 2 Score'])\n",
    "std_test2 = np.std(df['Test 2 Score'])\n"
   ]
  },
  {
   "cell_type": "markdown",
   "id": "6ba8ff48",
   "metadata": {},
   "source": [
    "### عرض الإحصاءات"
   ]
  },
  {
   "cell_type": "code",
   "execution_count": null,
   "id": "86c16151",
   "metadata": {},
   "outputs": [],
   "source": [
    "\n",
    "# عرض الإحصاءات\n",
    "print(\"\\nإحصاءات اختبار 1:\")\n",
    "print(f\"متوسط الدرجات: {mean_test1:.2f}\")\n",
    "print(f\"الوسيط: {median_test1:.2f}\")\n",
    "print(f\"الانحراف المعياري: {std_test1:.2f}\")\n",
    "\n",
    "print(\"\\nإحصاءات اختبار 2:\")\n",
    "print(f\"متوسط الدرجات: {mean_test2:.2f}\")\n",
    "print(f\"الوسيط: {median_test2:.2f}\")\n",
    "print(f\"الانحراف المعياري: {std_test2:.2f}\")\n"
   ]
  },
  {
   "cell_type": "markdown",
   "id": "bfaaf8f6",
   "metadata": {},
   "source": [
    "### إعداد الرسم البياني"
   ]
  },
  {
   "cell_type": "code",
   "execution_count": null,
   "id": "a09e462d",
   "metadata": {},
   "outputs": [],
   "source": [
    "\n",
    "# إعداد الرسم البياني\n",
    "plt.figure(figsize=(10, 5))\n",
    "\n",
    "# رسم الدرجات لاختبار 1\n",
    "plt.plot(df['Student'], df['Test 1 Score'], marker='o', label='Test 1 Score', color='blue')\n",
    "\n",
    "# رسم الدرجات لاختبار 2\n",
    "plt.plot(df['Student'], df['Test 2 Score'], marker='o', label='Test 2 Score', color='green')\n",
    "\n",
    "# إضافة عنوان وتسميات المحاور\n",
    "plt.title('students marks in the tests')\n",
    "plt.xlabel('the students')\n",
    "plt.ylabel('marks')\n",
    "plt.legend()\n",
    "\n",
    "# عرض الرسم البياني\n",
    "plt.grid(True)\n",
    "plt.show()\n"
   ]
  }
 ],
 "metadata": {},
 "nbformat": 4,
 "nbformat_minor": 5
}
